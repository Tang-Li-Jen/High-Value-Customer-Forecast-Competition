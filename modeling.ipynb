{
 "cells": [
  {
   "cell_type": "code",
   "execution_count": 314,
   "metadata": {},
   "outputs": [],
   "source": [
    "from collections import Counter\n",
    "from sklearn.metrics import roc_auc_score, f1_score, fbeta_score\n",
    "from sklearn.model_selection import train_test_split\n",
    "import pandas as pd\n",
    "import numpy as np\n",
    "import lightgbm as lgb\n",
    "import os"
   ]
  },
  {
   "cell_type": "code",
   "execution_count": 315,
   "metadata": {},
   "outputs": [],
   "source": [
    "folder_path = 'data/'"
   ]
  },
  {
   "cell_type": "code",
   "execution_count": 316,
   "metadata": {},
   "outputs": [
    {
     "data": {
      "text/plain": [
       "['feature_v4.csv',\n",
       " 'feature_v3.csv',\n",
       " '.DS_Store',\n",
       " 'submission.csv',\n",
       " 'user_label_train.csv.zip',\n",
       " 'user_info.csv',\n",
       " 'purchase_detail.csv',\n",
       " 'purchase_detail.csv.zip',\n",
       " 'login.csv',\n",
       " 'user_info.csv.zip',\n",
       " 'login.csv.zip',\n",
       " 'user_label_train.csv',\n",
       " 'rfm_features.csv',\n",
       " 'growth_features.csv']"
      ]
     },
     "execution_count": 316,
     "metadata": {},
     "output_type": "execute_result"
    }
   ],
   "source": [
    "os.listdir(folder_path)"
   ]
  },
  {
   "cell_type": "code",
   "execution_count": 345,
   "metadata": {},
   "outputs": [],
   "source": [
    "df_month = pd.read_csv(os.path.join(folder_path, 'month_amount.csv'))\n",
    "df_feature_v5 = pd.read_csv(os.path.join(folder_path, 'feature_v5.csv'))"
   ]
  },
  {
   "cell_type": "code",
   "execution_count": 317,
   "metadata": {},
   "outputs": [],
   "source": [
    "df_feature_v4 = pd.read_csv(os.path.join(folder_path, 'feature_v4.csv'))"
   ]
  },
  {
   "cell_type": "code",
   "execution_count": 298,
   "metadata": {},
   "outputs": [],
   "source": [
    "df_feature_v3 = pd.read_csv(os.path.join(folder_path, 'feature_v3.csv'))"
   ]
  },
  {
   "cell_type": "code",
   "execution_count": 248,
   "metadata": {},
   "outputs": [],
   "source": [
    "df_growth_features = pd.read_csv(os.path.join(folder_path, 'growth_features.csv'))"
   ]
  },
  {
   "cell_type": "code",
   "execution_count": 216,
   "metadata": {},
   "outputs": [],
   "source": [
    "df_rfm_features = pd.read_csv(os.path.join(folder_path, 'rfm_features.csv'))"
   ]
  },
  {
   "cell_type": "code",
   "execution_count": 217,
   "metadata": {},
   "outputs": [],
   "source": [
    "df_train = pd.read_csv(os.path.join(folder_path, 'user_label_train.csv'))\n",
    "df_test = pd.read_csv(os.path.join(folder_path, 'submission.csv'))\n",
    "\n",
    "df_user_info = pd.read_csv(os.path.join(folder_path, 'user_info.csv'))\n",
    "df_login = pd.read_csv(os.path.join(folder_path, 'login.csv'))\n",
    "df_purchase_detail = pd.read_csv(os.path.join(folder_path, 'purchase_detail.csv'))"
   ]
  },
  {
   "cell_type": "code",
   "execution_count": 218,
   "metadata": {},
   "outputs": [
    {
     "data": {
      "text/plain": [
       "0    0.658207\n",
       "1    0.341793\n",
       "Name: label, dtype: float64"
      ]
     },
     "execution_count": 218,
     "metadata": {},
     "output_type": "execute_result"
    }
   ],
   "source": [
    "df_train['label'].value_counts(normalize=True)"
   ]
  },
  {
   "cell_type": "code",
   "execution_count": 219,
   "metadata": {},
   "outputs": [
    {
     "name": "stdout",
     "output_type": "stream",
     "text": [
      "the number of train: 426832\n",
      "the number of test: 75325\n"
     ]
    }
   ],
   "source": [
    "print('the number of train: {}'.format(len(df_train)))\n",
    "print('the number of test: {}'.format(len(df_test)))"
   ]
  },
  {
   "cell_type": "markdown",
   "metadata": {},
   "source": [
    "## Feature Engineering"
   ]
  },
  {
   "cell_type": "code",
   "execution_count": 220,
   "metadata": {},
   "outputs": [
    {
     "name": "stdout",
     "output_type": "stream",
     "text": [
      "the number of train: 426832\n",
      "the number of test: 75325\n"
     ]
    }
   ],
   "source": [
    "df_train = pd.merge(df_train, df_user_info, on='userid', how='inner')\n",
    "df_test = pd.merge(df_test, df_user_info, on='userid', how='inner')\n",
    "\n",
    "print('the number of train: {}'.format(len(df_train)))\n",
    "print('the number of test: {}'.format(len(df_test)))"
   ]
  },
  {
   "cell_type": "code",
   "execution_count": 221,
   "metadata": {},
   "outputs": [],
   "source": [
    "df_train['age'] = 2020 - df_train.birth_year\n",
    "df_test['age'] = 2020 - df_test.birth_year"
   ]
  },
  {
   "cell_type": "code",
   "execution_count": 222,
   "metadata": {},
   "outputs": [],
   "source": [
    "df_train['lifetime'] = pd.to_datetime('2020-07-31') - pd.to_datetime(df_train['enroll_time'])\n",
    "df_train.lifetime = df_train.lifetime.astype('timedelta64[D]')\n",
    "\n",
    "df_test['lifetime'] = pd.to_datetime('2020-07-31') - pd.to_datetime(df_test['enroll_time'])\n",
    "df_test.lifetime = df_test.lifetime.astype('timedelta64[D]')"
   ]
  },
  {
   "cell_type": "code",
   "execution_count": 223,
   "metadata": {},
   "outputs": [],
   "source": [
    "df_login_feature = df_login.groupby('userid').agg({'login_times':['sum', 'min', 'max', 'std', 'mean']})\n",
    "df_login_feature.columns = [\"_\".join(x) for x in df_login_feature.columns.ravel()]"
   ]
  },
  {
   "cell_type": "code",
   "execution_count": 224,
   "metadata": {},
   "outputs": [],
   "source": [
    "df_train = pd.merge(df_train, df_login_feature, on='userid', how='inner')\n",
    "df_test = pd.merge(df_test, df_login_feature, on='userid', how='inner')"
   ]
  },
  {
   "cell_type": "code",
   "execution_count": 342,
   "metadata": {},
   "outputs": [],
   "source": [
    "df_dt = df_purchase_detail[['userid','date']].drop_duplicates()"
   ]
  },
  {
   "cell_type": "code",
   "execution_count": 338,
   "metadata": {},
   "outputs": [],
   "source": [
    "df_purchase_detail = df_purchase_detail.sort_values(['userid','date'], ascending=[1,1])"
   ]
  },
  {
   "cell_type": "code",
   "execution_count": 330,
   "metadata": {},
   "outputs": [],
   "source": [
    "df_purchase_detail['date'] = pd.to_datetime(df_purchase_detail.grass_date)"
   ]
  },
  {
   "cell_type": "code",
   "execution_count": 343,
   "metadata": {},
   "outputs": [],
   "source": [
    "df_dt['dt_diff'] = df_dt.groupby('userid')['date'].diff().astype('timedelta64[D]')"
   ]
  },
  {
   "cell_type": "code",
   "execution_count": 360,
   "metadata": {},
   "outputs": [
    {
     "data": {
      "text/html": [
       "<div>\n",
       "<style scoped>\n",
       "    .dataframe tbody tr th:only-of-type {\n",
       "        vertical-align: middle;\n",
       "    }\n",
       "\n",
       "    .dataframe tbody tr th {\n",
       "        vertical-align: top;\n",
       "    }\n",
       "\n",
       "    .dataframe thead th {\n",
       "        text-align: right;\n",
       "    }\n",
       "</style>\n",
       "<table border=\"1\" class=\"dataframe\">\n",
       "  <thead>\n",
       "    <tr style=\"text-align: right;\">\n",
       "      <th></th>\n",
       "      <th>dt_diff_sum</th>\n",
       "      <th>dt_diff_min</th>\n",
       "      <th>dt_diff_max</th>\n",
       "      <th>dt_diff_std</th>\n",
       "      <th>dt_diff_mean</th>\n",
       "    </tr>\n",
       "    <tr>\n",
       "      <th>userid</th>\n",
       "      <th></th>\n",
       "      <th></th>\n",
       "      <th></th>\n",
       "      <th></th>\n",
       "      <th></th>\n",
       "    </tr>\n",
       "  </thead>\n",
       "  <tbody>\n",
       "    <tr>\n",
       "      <th>1</th>\n",
       "      <td>174.0</td>\n",
       "      <td>3.0</td>\n",
       "      <td>50.0</td>\n",
       "      <td>17.705931</td>\n",
       "      <td>19.333333</td>\n",
       "    </tr>\n",
       "    <tr>\n",
       "      <th>2</th>\n",
       "      <td>147.0</td>\n",
       "      <td>1.0</td>\n",
       "      <td>28.0</td>\n",
       "      <td>8.473942</td>\n",
       "      <td>10.500000</td>\n",
       "    </tr>\n",
       "    <tr>\n",
       "      <th>3</th>\n",
       "      <td>94.0</td>\n",
       "      <td>3.0</td>\n",
       "      <td>41.0</td>\n",
       "      <td>14.854853</td>\n",
       "      <td>15.666667</td>\n",
       "    </tr>\n",
       "    <tr>\n",
       "      <th>4</th>\n",
       "      <td>170.0</td>\n",
       "      <td>1.0</td>\n",
       "      <td>16.0</td>\n",
       "      <td>4.220911</td>\n",
       "      <td>5.666667</td>\n",
       "    </tr>\n",
       "    <tr>\n",
       "      <th>5</th>\n",
       "      <td>171.0</td>\n",
       "      <td>1.0</td>\n",
       "      <td>18.0</td>\n",
       "      <td>3.603718</td>\n",
       "      <td>3.886364</td>\n",
       "    </tr>\n",
       "    <tr>\n",
       "      <th>...</th>\n",
       "      <td>...</td>\n",
       "      <td>...</td>\n",
       "      <td>...</td>\n",
       "      <td>...</td>\n",
       "      <td>...</td>\n",
       "    </tr>\n",
       "    <tr>\n",
       "      <th>521605</th>\n",
       "      <td>75.0</td>\n",
       "      <td>3.0</td>\n",
       "      <td>43.0</td>\n",
       "      <td>16.492423</td>\n",
       "      <td>15.000000</td>\n",
       "    </tr>\n",
       "    <tr>\n",
       "      <th>521606</th>\n",
       "      <td>154.0</td>\n",
       "      <td>2.0</td>\n",
       "      <td>28.0</td>\n",
       "      <td>6.430582</td>\n",
       "      <td>10.266667</td>\n",
       "    </tr>\n",
       "    <tr>\n",
       "      <th>521607</th>\n",
       "      <td>157.0</td>\n",
       "      <td>1.0</td>\n",
       "      <td>36.0</td>\n",
       "      <td>10.906445</td>\n",
       "      <td>11.214286</td>\n",
       "    </tr>\n",
       "    <tr>\n",
       "      <th>521608</th>\n",
       "      <td>107.0</td>\n",
       "      <td>11.0</td>\n",
       "      <td>65.0</td>\n",
       "      <td>27.300794</td>\n",
       "      <td>35.666667</td>\n",
       "    </tr>\n",
       "    <tr>\n",
       "      <th>521609</th>\n",
       "      <td>160.0</td>\n",
       "      <td>1.0</td>\n",
       "      <td>30.0</td>\n",
       "      <td>11.660019</td>\n",
       "      <td>11.428571</td>\n",
       "    </tr>\n",
       "  </tbody>\n",
       "</table>\n",
       "<p>502157 rows × 5 columns</p>\n",
       "</div>"
      ],
      "text/plain": [
       "        dt_diff_sum  dt_diff_min  dt_diff_max  dt_diff_std  dt_diff_mean\n",
       "userid                                                                  \n",
       "1             174.0          3.0         50.0    17.705931     19.333333\n",
       "2             147.0          1.0         28.0     8.473942     10.500000\n",
       "3              94.0          3.0         41.0    14.854853     15.666667\n",
       "4             170.0          1.0         16.0     4.220911      5.666667\n",
       "5             171.0          1.0         18.0     3.603718      3.886364\n",
       "...             ...          ...          ...          ...           ...\n",
       "521605         75.0          3.0         43.0    16.492423     15.000000\n",
       "521606        154.0          2.0         28.0     6.430582     10.266667\n",
       "521607        157.0          1.0         36.0    10.906445     11.214286\n",
       "521608        107.0         11.0         65.0    27.300794     35.666667\n",
       "521609        160.0          1.0         30.0    11.660019     11.428571\n",
       "\n",
       "[502157 rows x 5 columns]"
      ]
     },
     "execution_count": 360,
     "metadata": {},
     "output_type": "execute_result"
    }
   ],
   "source": [
    "df_purchase_dt_diff"
   ]
  },
  {
   "cell_type": "code",
   "execution_count": 361,
   "metadata": {},
   "outputs": [],
   "source": [
    "df_train = pd.merge(df_train, df_purchase_dt_diff, on='userid', how='inner')\n",
    "df_test = pd.merge(df_test, df_purchase_dt_diff, on='userid', how='inner')"
   ]
  },
  {
   "cell_type": "code",
   "execution_count": 359,
   "metadata": {},
   "outputs": [],
   "source": [
    "df_purchase_dt_diff = df_dt.groupby('userid').agg({'dt_diff':['sum', 'min', 'max', 'std','mean']\n",
    "                                                                      })\n",
    "df_purchase_dt_diff.columns = [\"_\".join(x) for x in df_purchase_dt_diff.columns.ravel()]"
   ]
  },
  {
   "cell_type": "code",
   "execution_count": 339,
   "metadata": {},
   "outputs": [
    {
     "data": {
      "text/html": [
       "<div>\n",
       "<style scoped>\n",
       "    .dataframe tbody tr th:only-of-type {\n",
       "        vertical-align: middle;\n",
       "    }\n",
       "\n",
       "    .dataframe tbody tr th {\n",
       "        vertical-align: top;\n",
       "    }\n",
       "\n",
       "    .dataframe thead th {\n",
       "        text-align: right;\n",
       "    }\n",
       "</style>\n",
       "<table border=\"1\" class=\"dataframe\">\n",
       "  <thead>\n",
       "    <tr style=\"text-align: right;\">\n",
       "      <th></th>\n",
       "      <th>userid</th>\n",
       "      <th>grass_date</th>\n",
       "      <th>order_count</th>\n",
       "      <th>total_amount</th>\n",
       "      <th>category_encoded</th>\n",
       "      <th>amount_per_order</th>\n",
       "      <th>date</th>\n",
       "      <th>dt_diff</th>\n",
       "    </tr>\n",
       "  </thead>\n",
       "  <tbody>\n",
       "    <tr>\n",
       "      <th>2931480</th>\n",
       "      <td>295790</td>\n",
       "      <td>2020-03-18</td>\n",
       "      <td>2</td>\n",
       "      <td>2</td>\n",
       "      <td>6</td>\n",
       "      <td>1.000000</td>\n",
       "      <td>2020-03-18</td>\n",
       "      <td>-85.0</td>\n",
       "    </tr>\n",
       "    <tr>\n",
       "      <th>2966972</th>\n",
       "      <td>295790</td>\n",
       "      <td>2020-03-18</td>\n",
       "      <td>1</td>\n",
       "      <td>1</td>\n",
       "      <td>8</td>\n",
       "      <td>1.000000</td>\n",
       "      <td>2020-03-18</td>\n",
       "      <td>-35.0</td>\n",
       "    </tr>\n",
       "    <tr>\n",
       "      <th>2959250</th>\n",
       "      <td>295790</td>\n",
       "      <td>2020-03-30</td>\n",
       "      <td>1</td>\n",
       "      <td>1</td>\n",
       "      <td>22</td>\n",
       "      <td>1.000000</td>\n",
       "      <td>2020-03-30</td>\n",
       "      <td>-121.0</td>\n",
       "    </tr>\n",
       "    <tr>\n",
       "      <th>2977539</th>\n",
       "      <td>295790</td>\n",
       "      <td>2020-03-30</td>\n",
       "      <td>22</td>\n",
       "      <td>30</td>\n",
       "      <td>8</td>\n",
       "      <td>1.363636</td>\n",
       "      <td>2020-03-30</td>\n",
       "      <td>12.0</td>\n",
       "    </tr>\n",
       "    <tr>\n",
       "      <th>3016938</th>\n",
       "      <td>295790</td>\n",
       "      <td>2020-03-30</td>\n",
       "      <td>5</td>\n",
       "      <td>5</td>\n",
       "      <td>23</td>\n",
       "      <td>1.000000</td>\n",
       "      <td>2020-03-30</td>\n",
       "      <td>-39.0</td>\n",
       "    </tr>\n",
       "    <tr>\n",
       "      <th>3018213</th>\n",
       "      <td>295790</td>\n",
       "      <td>2020-03-30</td>\n",
       "      <td>2</td>\n",
       "      <td>2</td>\n",
       "      <td>15</td>\n",
       "      <td>1.000000</td>\n",
       "      <td>2020-03-30</td>\n",
       "      <td>0.0</td>\n",
       "    </tr>\n",
       "    <tr>\n",
       "      <th>3043702</th>\n",
       "      <td>295790</td>\n",
       "      <td>2020-03-30</td>\n",
       "      <td>1</td>\n",
       "      <td>1</td>\n",
       "      <td>14</td>\n",
       "      <td>1.000000</td>\n",
       "      <td>2020-03-30</td>\n",
       "      <td>-39.0</td>\n",
       "    </tr>\n",
       "    <tr>\n",
       "      <th>4083929</th>\n",
       "      <td>295790</td>\n",
       "      <td>2020-04-21</td>\n",
       "      <td>5</td>\n",
       "      <td>5</td>\n",
       "      <td>23</td>\n",
       "      <td>1.000000</td>\n",
       "      <td>2020-04-21</td>\n",
       "      <td>-101.0</td>\n",
       "    </tr>\n",
       "    <tr>\n",
       "      <th>2934264</th>\n",
       "      <td>295790</td>\n",
       "      <td>2020-04-22</td>\n",
       "      <td>3</td>\n",
       "      <td>4</td>\n",
       "      <td>6</td>\n",
       "      <td>1.333333</td>\n",
       "      <td>2020-04-22</td>\n",
       "      <td>35.0</td>\n",
       "    </tr>\n",
       "    <tr>\n",
       "      <th>2966540</th>\n",
       "      <td>295790</td>\n",
       "      <td>2020-04-22</td>\n",
       "      <td>1</td>\n",
       "      <td>1</td>\n",
       "      <td>3</td>\n",
       "      <td>1.000000</td>\n",
       "      <td>2020-04-22</td>\n",
       "      <td>-50.0</td>\n",
       "    </tr>\n",
       "    <tr>\n",
       "      <th>3008308</th>\n",
       "      <td>295790</td>\n",
       "      <td>2020-04-25</td>\n",
       "      <td>2</td>\n",
       "      <td>2</td>\n",
       "      <td>15</td>\n",
       "      <td>1.000000</td>\n",
       "      <td>2020-04-25</td>\n",
       "      <td>-95.0</td>\n",
       "    </tr>\n",
       "    <tr>\n",
       "      <th>3013632</th>\n",
       "      <td>295790</td>\n",
       "      <td>2020-05-08</td>\n",
       "      <td>4</td>\n",
       "      <td>4</td>\n",
       "      <td>23</td>\n",
       "      <td>1.000000</td>\n",
       "      <td>2020-05-08</td>\n",
       "      <td>13.0</td>\n",
       "    </tr>\n",
       "    <tr>\n",
       "      <th>3029038</th>\n",
       "      <td>295790</td>\n",
       "      <td>2020-05-08</td>\n",
       "      <td>3</td>\n",
       "      <td>3</td>\n",
       "      <td>15</td>\n",
       "      <td>1.000000</td>\n",
       "      <td>2020-05-08</td>\n",
       "      <td>-3.0</td>\n",
       "    </tr>\n",
       "    <tr>\n",
       "      <th>3022649</th>\n",
       "      <td>295790</td>\n",
       "      <td>2020-05-11</td>\n",
       "      <td>1</td>\n",
       "      <td>2</td>\n",
       "      <td>8</td>\n",
       "      <td>2.000000</td>\n",
       "      <td>2020-05-11</td>\n",
       "      <td>42.0</td>\n",
       "    </tr>\n",
       "    <tr>\n",
       "      <th>0</th>\n",
       "      <td>295790</td>\n",
       "      <td>2020-05-13</td>\n",
       "      <td>4</td>\n",
       "      <td>4</td>\n",
       "      <td>8</td>\n",
       "      <td>1.000000</td>\n",
       "      <td>2020-05-13</td>\n",
       "      <td>NaN</td>\n",
       "    </tr>\n",
       "    <tr>\n",
       "      <th>2980470</th>\n",
       "      <td>295790</td>\n",
       "      <td>2020-05-20</td>\n",
       "      <td>1</td>\n",
       "      <td>1</td>\n",
       "      <td>8</td>\n",
       "      <td>1.000000</td>\n",
       "      <td>2020-05-20</td>\n",
       "      <td>51.0</td>\n",
       "    </tr>\n",
       "    <tr>\n",
       "      <th>2989137</th>\n",
       "      <td>295790</td>\n",
       "      <td>2020-05-26</td>\n",
       "      <td>1</td>\n",
       "      <td>2</td>\n",
       "      <td>6</td>\n",
       "      <td>2.000000</td>\n",
       "      <td>2020-05-26</td>\n",
       "      <td>-48.0</td>\n",
       "    </tr>\n",
       "    <tr>\n",
       "      <th>2928017</th>\n",
       "      <td>295790</td>\n",
       "      <td>2020-06-11</td>\n",
       "      <td>27</td>\n",
       "      <td>48</td>\n",
       "      <td>8</td>\n",
       "      <td>1.777778</td>\n",
       "      <td>2020-06-11</td>\n",
       "      <td>29.0</td>\n",
       "    </tr>\n",
       "    <tr>\n",
       "      <th>2938794</th>\n",
       "      <td>295790</td>\n",
       "      <td>2020-06-11</td>\n",
       "      <td>1</td>\n",
       "      <td>4</td>\n",
       "      <td>15</td>\n",
       "      <td>4.000000</td>\n",
       "      <td>2020-06-11</td>\n",
       "      <td>50.0</td>\n",
       "    </tr>\n",
       "    <tr>\n",
       "      <th>2960153</th>\n",
       "      <td>295790</td>\n",
       "      <td>2020-06-11</td>\n",
       "      <td>2</td>\n",
       "      <td>4</td>\n",
       "      <td>22</td>\n",
       "      <td>2.000000</td>\n",
       "      <td>2020-06-11</td>\n",
       "      <td>73.0</td>\n",
       "    </tr>\n",
       "    <tr>\n",
       "      <th>2939318</th>\n",
       "      <td>295790</td>\n",
       "      <td>2020-06-29</td>\n",
       "      <td>2</td>\n",
       "      <td>2</td>\n",
       "      <td>9</td>\n",
       "      <td>1.000000</td>\n",
       "      <td>2020-06-29</td>\n",
       "      <td>18.0</td>\n",
       "    </tr>\n",
       "    <tr>\n",
       "      <th>2940983</th>\n",
       "      <td>295790</td>\n",
       "      <td>2020-06-29</td>\n",
       "      <td>1</td>\n",
       "      <td>1</td>\n",
       "      <td>6</td>\n",
       "      <td>1.000000</td>\n",
       "      <td>2020-06-29</td>\n",
       "      <td>0.0</td>\n",
       "    </tr>\n",
       "    <tr>\n",
       "      <th>2983956</th>\n",
       "      <td>295790</td>\n",
       "      <td>2020-07-13</td>\n",
       "      <td>1</td>\n",
       "      <td>30</td>\n",
       "      <td>6</td>\n",
       "      <td>30.000000</td>\n",
       "      <td>2020-07-13</td>\n",
       "      <td>54.0</td>\n",
       "    </tr>\n",
       "    <tr>\n",
       "      <th>2955053</th>\n",
       "      <td>295790</td>\n",
       "      <td>2020-07-29</td>\n",
       "      <td>1</td>\n",
       "      <td>1</td>\n",
       "      <td>6</td>\n",
       "      <td>1.000000</td>\n",
       "      <td>2020-07-29</td>\n",
       "      <td>30.0</td>\n",
       "    </tr>\n",
       "    <tr>\n",
       "      <th>3008126</th>\n",
       "      <td>295790</td>\n",
       "      <td>2020-07-29</td>\n",
       "      <td>1</td>\n",
       "      <td>1</td>\n",
       "      <td>9</td>\n",
       "      <td>1.000000</td>\n",
       "      <td>2020-07-29</td>\n",
       "      <td>64.0</td>\n",
       "    </tr>\n",
       "    <tr>\n",
       "      <th>4082934</th>\n",
       "      <td>295790</td>\n",
       "      <td>2020-07-31</td>\n",
       "      <td>2</td>\n",
       "      <td>2</td>\n",
       "      <td>8</td>\n",
       "      <td>1.000000</td>\n",
       "      <td>2020-07-31</td>\n",
       "      <td>123.0</td>\n",
       "    </tr>\n",
       "  </tbody>\n",
       "</table>\n",
       "</div>"
      ],
      "text/plain": [
       "         userid  grass_date  order_count  total_amount  category_encoded  \\\n",
       "2931480  295790  2020-03-18            2             2                 6   \n",
       "2966972  295790  2020-03-18            1             1                 8   \n",
       "2959250  295790  2020-03-30            1             1                22   \n",
       "2977539  295790  2020-03-30           22            30                 8   \n",
       "3016938  295790  2020-03-30            5             5                23   \n",
       "3018213  295790  2020-03-30            2             2                15   \n",
       "3043702  295790  2020-03-30            1             1                14   \n",
       "4083929  295790  2020-04-21            5             5                23   \n",
       "2934264  295790  2020-04-22            3             4                 6   \n",
       "2966540  295790  2020-04-22            1             1                 3   \n",
       "3008308  295790  2020-04-25            2             2                15   \n",
       "3013632  295790  2020-05-08            4             4                23   \n",
       "3029038  295790  2020-05-08            3             3                15   \n",
       "3022649  295790  2020-05-11            1             2                 8   \n",
       "0        295790  2020-05-13            4             4                 8   \n",
       "2980470  295790  2020-05-20            1             1                 8   \n",
       "2989137  295790  2020-05-26            1             2                 6   \n",
       "2928017  295790  2020-06-11           27            48                 8   \n",
       "2938794  295790  2020-06-11            1             4                15   \n",
       "2960153  295790  2020-06-11            2             4                22   \n",
       "2939318  295790  2020-06-29            2             2                 9   \n",
       "2940983  295790  2020-06-29            1             1                 6   \n",
       "2983956  295790  2020-07-13            1            30                 6   \n",
       "2955053  295790  2020-07-29            1             1                 6   \n",
       "3008126  295790  2020-07-29            1             1                 9   \n",
       "4082934  295790  2020-07-31            2             2                 8   \n",
       "\n",
       "         amount_per_order       date  dt_diff  \n",
       "2931480          1.000000 2020-03-18    -85.0  \n",
       "2966972          1.000000 2020-03-18    -35.0  \n",
       "2959250          1.000000 2020-03-30   -121.0  \n",
       "2977539          1.363636 2020-03-30     12.0  \n",
       "3016938          1.000000 2020-03-30    -39.0  \n",
       "3018213          1.000000 2020-03-30      0.0  \n",
       "3043702          1.000000 2020-03-30    -39.0  \n",
       "4083929          1.000000 2020-04-21   -101.0  \n",
       "2934264          1.333333 2020-04-22     35.0  \n",
       "2966540          1.000000 2020-04-22    -50.0  \n",
       "3008308          1.000000 2020-04-25    -95.0  \n",
       "3013632          1.000000 2020-05-08     13.0  \n",
       "3029038          1.000000 2020-05-08     -3.0  \n",
       "3022649          2.000000 2020-05-11     42.0  \n",
       "0                1.000000 2020-05-13      NaN  \n",
       "2980470          1.000000 2020-05-20     51.0  \n",
       "2989137          2.000000 2020-05-26    -48.0  \n",
       "2928017          1.777778 2020-06-11     29.0  \n",
       "2938794          4.000000 2020-06-11     50.0  \n",
       "2960153          2.000000 2020-06-11     73.0  \n",
       "2939318          1.000000 2020-06-29     18.0  \n",
       "2940983          1.000000 2020-06-29      0.0  \n",
       "2983956         30.000000 2020-07-13     54.0  \n",
       "2955053          1.000000 2020-07-29     30.0  \n",
       "3008126          1.000000 2020-07-29     64.0  \n",
       "4082934          1.000000 2020-07-31    123.0  "
      ]
     },
     "execution_count": 339,
     "metadata": {},
     "output_type": "execute_result"
    }
   ],
   "source": [
    "df_purchase_detail[df_purchase_detail.userid == 295790]"
   ]
  },
  {
   "cell_type": "code",
   "execution_count": null,
   "metadata": {},
   "outputs": [],
   "source": []
  },
  {
   "cell_type": "code",
   "execution_count": 300,
   "metadata": {},
   "outputs": [],
   "source": [
    "df_train = pd.merge(df_train, df_feature_v3, on='userid', how='inner')\n",
    "df_test = pd.merge(df_test, df_feature_v3, on='userid', how='inner')"
   ]
  },
  {
   "cell_type": "code",
   "execution_count": 318,
   "metadata": {},
   "outputs": [],
   "source": [
    "df_train = pd.merge(df_train, df_feature_v4, on='userid', how='inner')\n",
    "df_test = pd.merge(df_test, df_feature_v4, on='userid', how='inner')"
   ]
  },
  {
   "cell_type": "code",
   "execution_count": 346,
   "metadata": {},
   "outputs": [],
   "source": [
    "df_train = pd.merge(df_train, df_feature_v5, on='userid', how='inner')\n",
    "df_test = pd.merge(df_test, df_feature_v5, on='userid', how='inner')"
   ]
  },
  {
   "cell_type": "code",
   "execution_count": 347,
   "metadata": {},
   "outputs": [],
   "source": [
    "df_train = pd.merge(df_train, df_month, on='userid', how='inner')\n",
    "df_test = pd.merge(df_test, df_month, on='userid', how='inner')"
   ]
  },
  {
   "cell_type": "code",
   "execution_count": 263,
   "metadata": {},
   "outputs": [],
   "source": [
    "df_purchase_ndays = df_purchase_detail.groupby('userid')['grass_date'].count()"
   ]
  },
  {
   "cell_type": "code",
   "execution_count": 265,
   "metadata": {},
   "outputs": [],
   "source": [
    "df_train = pd.merge(df_train, df_purchase_ndays, on='userid', how='inner')\n",
    "df_test = pd.merge(df_test, df_purchase_ndays, on='userid', how='inner')"
   ]
  },
  {
   "cell_type": "code",
   "execution_count": 274,
   "metadata": {},
   "outputs": [],
   "source": [
    "df_purchase_detail['amount_per_order'] = df_purchase_detail.total_amount / df_purchase_detail.order_count"
   ]
  },
  {
   "cell_type": "code",
   "execution_count": 226,
   "metadata": {},
   "outputs": [],
   "source": [
    "df_purchase_detail_feature = df_purchase_detail.groupby('userid').agg({'order_count':['sum', 'min', 'max', 'std', 'mean']\n",
    "                                                                      , 'total_amount':['sum', 'min', 'max', 'std','mean']})\n",
    "df_purchase_detail_feature.columns = [\"_\".join(x) for x in df_purchase_detail_feature.columns.ravel()]"
   ]
  },
  {
   "cell_type": "code",
   "execution_count": 227,
   "metadata": {},
   "outputs": [],
   "source": [
    "df_train = pd.merge(df_train, df_purchase_detail_feature, on='userid', how='inner')\n",
    "df_test = pd.merge(df_test, df_purchase_detail_feature, on='userid', how='inner')"
   ]
  },
  {
   "cell_type": "code",
   "execution_count": 276,
   "metadata": {},
   "outputs": [],
   "source": [
    "df_purchase_amount_per_order = df_purchase_detail.groupby('userid').agg({'amount_per_order':['sum', 'min', 'max', 'std','mean']\n",
    "                                                                      })\n",
    "df_purchase_amount_per_order.columns = [\"_\".join(x) for x in df_purchase_amount_per_order.columns.ravel()]"
   ]
  },
  {
   "cell_type": "code",
   "execution_count": 277,
   "metadata": {},
   "outputs": [],
   "source": [
    "df_train = pd.merge(df_train, df_purchase_amount_per_order, on='userid', how='inner')\n",
    "df_test = pd.merge(df_test, df_purchase_amount_per_order, on='userid', how='inner')"
   ]
  },
  {
   "cell_type": "code",
   "execution_count": 250,
   "metadata": {},
   "outputs": [],
   "source": [
    "df_train = pd.merge(df_train, df_growth_features, on='userid', how='inner')\n",
    "df_test = pd.merge(df_test, df_growth_features, on='userid', how='inner')"
   ]
  },
  {
   "cell_type": "code",
   "execution_count": 228,
   "metadata": {},
   "outputs": [],
   "source": [
    "df_rfm_features = df_rfm_features[['userid', 'DistinctDay', 'DistinctDayIn90days', 'DistinctDayIn60days',\n",
    "       'DistinctDayIn30days', 'DistinctDayIn14days', 'DistinctDayIn7days',\n",
    "       'DistinctDayIn3days', 'FreqIn90days', 'FreqIn60days',\n",
    "       'FreqIn14days', 'FreqIn3days', 'FreqIn7days', 'rececny']]"
   ]
  },
  {
   "cell_type": "code",
   "execution_count": 229,
   "metadata": {},
   "outputs": [],
   "source": [
    "df_train = pd.merge(df_train, df_rfm_features, on='userid', how='inner')\n",
    "df_test = pd.merge(df_test, df_rfm_features, on='userid', how='inner')"
   ]
  },
  {
   "cell_type": "code",
   "execution_count": 230,
   "metadata": {},
   "outputs": [],
   "source": [
    "df_category_count = df_purchase_detail.groupby(['userid','category_encoded'], as_index=False)['total_amount'].sum()\n",
    "\n",
    "df_category_pivot = pd.pivot_table(df_category_count, index='userid', columns='category_encoded'\n",
    "                                       , values='total_amount')\n",
    "\n",
    "df_category_pivot = df_category_pivot.fillna(0)\n",
    "\n",
    "df_category_pivot.columns = ['category_' + str(x) for x in df_category_pivot.columns]"
   ]
  },
  {
   "cell_type": "code",
   "execution_count": 231,
   "metadata": {},
   "outputs": [],
   "source": [
    "df_train = pd.merge(df_train, df_category_pivot, on='userid', how='inner')\n",
    "df_test = pd.merge(df_test, df_category_pivot, on='userid', how='inner')"
   ]
  },
  {
   "cell_type": "markdown",
   "metadata": {},
   "source": [
    "## Modeling"
   ]
  },
  {
   "cell_type": "code",
   "execution_count": 362,
   "metadata": {},
   "outputs": [
    {
     "data": {
      "text/plain": [
       "Index(['userid', 'label', 'gender', 'is_seller', 'birth_year', 'enroll_time',\n",
       "       'age', 'lifetime', 'login_times_sum', 'login_times_min',\n",
       "       'login_times_max', 'login_times_std', 'login_times_mean',\n",
       "       'order_count_sum', 'order_count_min', 'order_count_max',\n",
       "       'order_count_std', 'order_count_mean', 'total_amount_sum',\n",
       "       'total_amount_min', 'total_amount_max', 'total_amount_std',\n",
       "       'total_amount_mean', 'DistinctDay', 'DistinctDayIn90days',\n",
       "       'DistinctDayIn60days', 'DistinctDayIn30days', 'DistinctDayIn14days',\n",
       "       'DistinctDayIn7days', 'DistinctDayIn3days', 'FreqIn90days',\n",
       "       'FreqIn60days', 'FreqIn14days', 'FreqIn3days', 'FreqIn7days', 'rececny',\n",
       "       'category_1', 'category_2', 'category_3', 'category_4', 'category_5',\n",
       "       'category_6', 'category_7', 'category_8', 'category_9', 'category_10',\n",
       "       'category_11', 'category_12', 'category_13', 'category_14',\n",
       "       'category_15', 'category_16', 'category_17', 'category_18',\n",
       "       'category_19', 'category_20', 'category_21', 'category_22',\n",
       "       'category_23', 'avgFreqMoM', 'grass_date', 'amount_per_order_sum',\n",
       "       'amount_per_order_min', 'amount_per_order_max', 'amount_per_order_std',\n",
       "       'amount_per_order_mean', 'AvgMoMOrderCnt', 'AvgMoMTotCnt',\n",
       "       'OrderCntIn90days', 'TotCntIn90days', 'OrderCntIn60days',\n",
       "       'TotCntIn60days', 'OrderCntIn30days', 'TotCntIn30days',\n",
       "       'OrderCntIn14days', 'TotCntIn14days', 'OrderCntIn7days',\n",
       "       'TotCntIn7days', 'OrderCntIn3days', 'TotCntIn3days', 'BuyRececny',\n",
       "       'DistinctCategory', 'GoodBuyer', '2', '3', '4', '5', '6', '7',\n",
       "       'dt_diff_sum', 'dt_diff_min', 'dt_diff_max', 'dt_diff_std',\n",
       "       'dt_diff_mean'],\n",
       "      dtype='object')"
      ]
     },
     "execution_count": 362,
     "metadata": {},
     "output_type": "execute_result"
    }
   ],
   "source": [
    "df_train.columns"
   ]
  },
  {
   "cell_type": "code",
   "execution_count": 363,
   "metadata": {},
   "outputs": [],
   "source": [
    "df_tr, df_val = train_test_split(df_train, stratify = df_train['label'], test_size=0.2, random_state=42)"
   ]
  },
  {
   "cell_type": "code",
   "execution_count": 364,
   "metadata": {},
   "outputs": [
    {
     "name": "stdout",
     "output_type": "stream",
     "text": [
      "91\n"
     ]
    }
   ],
   "source": [
    "features = ['gender', 'is_seller', 'birth_year', 'login_times_sum', 'login_times_min', 'login_times_max',\n",
    "       'login_times_std', 'login_times_mean', 'age', 'lifetime', 'category_1', 'category_2',\n",
    "       'category_3', 'category_4', 'category_5', 'category_6', 'category_7',\n",
    "       'category_8', 'category_9', 'category_10', 'category_11', 'category_12',\n",
    "       'category_13', 'category_14', 'category_15', 'category_16',\n",
    "       'category_17', 'category_18', 'category_19', 'category_20',\n",
    "       'category_21', 'category_22', 'category_23', 'DistinctDay', 'DistinctDayIn90days', 'DistinctDayIn60days',\n",
    "       'DistinctDayIn30days', 'DistinctDayIn14days', 'DistinctDayIn7days',\n",
    "       'DistinctDayIn3days', 'FreqIn90days', 'FreqIn60days',\n",
    "       'FreqIn14days', 'FreqIn3days', 'FreqIn7days', 'rececny',\n",
    "           'order_count_sum', 'order_count_min',\n",
    "       'order_count_max', 'order_count_std','order_count_mean', 'total_amount_sum',\n",
    "       'total_amount_min', 'total_amount_max', 'total_amount_std','total_amount_mean', 'avgFreqMoM','grass_date',\n",
    "           'amount_per_order_sum',\n",
    "       'amount_per_order_min', 'amount_per_order_max', 'amount_per_order_std',\n",
    "       'amount_per_order_mean','AvgMoMOrderCnt', 'AvgMoMTotCnt',\n",
    "       'OrderCntIn90days', 'TotCntIn90days', 'OrderCntIn60days',\n",
    "       'TotCntIn60days', 'OrderCntIn30days', 'TotCntIn30days',\n",
    "       'OrderCntIn14days', 'TotCntIn14days', 'OrderCntIn7days',\n",
    "       'TotCntIn7days', 'OrderCntIn3days', 'TotCntIn3days', 'BuyRececny','DistinctCategory',\n",
    "           'GoodBuyer', '2', '3', '4', '5', '6', '7', 'dt_diff_sum', 'dt_diff_min', 'dt_diff_max', 'dt_diff_std',\n",
    "       'dt_diff_mean']\n",
    "\n",
    "print(len(features))"
   ]
  },
  {
   "cell_type": "code",
   "execution_count": 365,
   "metadata": {},
   "outputs": [],
   "source": [
    "tr_X = df_tr[features].values\n",
    "tr_y = df_tr['label']\n",
    "\n",
    "val_X = df_val[features].values\n",
    "val_y = df_val['label']\n",
    "\n",
    "te_X = df_test[features].values"
   ]
  },
  {
   "cell_type": "code",
   "execution_count": 366,
   "metadata": {},
   "outputs": [],
   "source": [
    "lgtrain = lgb.Dataset(tr_X, tr_y)\n",
    "lgvalid = lgb.Dataset(val_X, val_y)"
   ]
  },
  {
   "cell_type": "code",
   "execution_count": null,
   "metadata": {},
   "outputs": [],
   "source": [
    "# lgtrain = lgb.Dataset(tr_X, tr_y, categorical_feature=['sex','job_category','job_level','factory_id','mgt_level','current_pjt_role'\n",
    "#                                                        ,'work_location','age_level','married','education_major','education_type','education'\n",
    "#                                                       ,'department','commute_cost', 'new_comer','is_promotion','promotion_speed'\n",
    "#                                                        ,'annual_perf_A', 'annual_perf_B', 'annual_perf_C','change_department'\n",
    "#                                                        , 'new_comer','job_exp1', 'job_exp2', 'job_exp3','job_exp4', 'job_exp5'\n",
    "#                                                       ])"
   ]
  },
  {
   "cell_type": "code",
   "execution_count": 373,
   "metadata": {},
   "outputs": [],
   "source": [
    "params = {\n",
    "          \"objective\" : \"binary\",\n",
    "          \"num_leaves\" : 30,\n",
    "          \"max_depth\": -1,\n",
    "          \"bagging_fraction\" : 0.8,  # subsample\n",
    "          \"feature_fraction\" : 0.8,  # colsample_bytree\n",
    "          \"bagging_freq\" : 5,        # subsample_freq\n",
    "          \"bagging_seed\" : 2018,\n",
    "          \"num_threads\":4,\n",
    "          'lambda_l1': 0.9, \n",
    "          'lambda_l2': 0.5, \n",
    "          'learning_rate': 0.01, \n",
    "          'metric': 'AUC',\n",
    "          'is_unbalance': False,\n",
    "          \"verbosity\" : -1 }"
   ]
  },
  {
   "cell_type": "code",
   "execution_count": 374,
   "metadata": {},
   "outputs": [
    {
     "name": "stdout",
     "output_type": "stream",
     "text": [
      "Training until validation scores don't improve for 200 rounds\n",
      "[50]\ttrain's auc: 0.686145\tvalidation's auc: 0.681015\n",
      "[100]\ttrain's auc: 0.688682\tvalidation's auc: 0.683341\n",
      "[150]\ttrain's auc: 0.691221\tvalidation's auc: 0.685615\n",
      "[200]\ttrain's auc: 0.693819\tvalidation's auc: 0.687837\n",
      "[250]\ttrain's auc: 0.696093\tvalidation's auc: 0.68968\n",
      "[300]\ttrain's auc: 0.698239\tvalidation's auc: 0.691421\n",
      "[350]\ttrain's auc: 0.700121\tvalidation's auc: 0.692856\n",
      "[400]\ttrain's auc: 0.701671\tvalidation's auc: 0.693954\n",
      "[450]\ttrain's auc: 0.703098\tvalidation's auc: 0.694849\n",
      "[500]\ttrain's auc: 0.704435\tvalidation's auc: 0.69561\n",
      "[550]\ttrain's auc: 0.705576\tvalidation's auc: 0.696233\n",
      "[600]\ttrain's auc: 0.706612\tvalidation's auc: 0.696733\n",
      "[650]\ttrain's auc: 0.707616\tvalidation's auc: 0.697212\n",
      "[700]\ttrain's auc: 0.708557\tvalidation's auc: 0.697602\n",
      "[750]\ttrain's auc: 0.709463\tvalidation's auc: 0.697942\n",
      "[800]\ttrain's auc: 0.71034\tvalidation's auc: 0.698188\n",
      "[850]\ttrain's auc: 0.711206\tvalidation's auc: 0.698438\n",
      "[900]\ttrain's auc: 0.712007\tvalidation's auc: 0.698653\n",
      "[950]\ttrain's auc: 0.712774\tvalidation's auc: 0.698844\n",
      "[1000]\ttrain's auc: 0.713543\tvalidation's auc: 0.699025\n",
      "[1050]\ttrain's auc: 0.71424\tvalidation's auc: 0.699181\n",
      "[1100]\ttrain's auc: 0.71498\tvalidation's auc: 0.699311\n",
      "[1150]\ttrain's auc: 0.715651\tvalidation's auc: 0.699379\n",
      "[1200]\ttrain's auc: 0.716372\tvalidation's auc: 0.699442\n",
      "[1250]\ttrain's auc: 0.717034\tvalidation's auc: 0.699532\n",
      "[1300]\ttrain's auc: 0.717743\tvalidation's auc: 0.699628\n",
      "[1350]\ttrain's auc: 0.718379\tvalidation's auc: 0.699706\n",
      "[1400]\ttrain's auc: 0.719001\tvalidation's auc: 0.699759\n",
      "[1450]\ttrain's auc: 0.719623\tvalidation's auc: 0.699792\n",
      "[1500]\ttrain's auc: 0.720294\tvalidation's auc: 0.699877\n",
      "Did not meet early stopping. Best iteration is:\n",
      "[1500]\ttrain's auc: 0.720294\tvalidation's auc: 0.699877\n"
     ]
    }
   ],
   "source": [
    "evals_result = {}\n",
    "\n",
    "clf = lgb.train(params\n",
    "                , lgtrain\n",
    "                , 1500\n",
    "                , valid_sets=[lgvalid, lgtrain]\n",
    "                , valid_names=['validation', 'train']\n",
    "#                 , feval=lgb_fbeta_score\n",
    "                , evals_result=evals_result\n",
    "                ,early_stopping_rounds = 200,\n",
    "                verbose_eval=50)"
   ]
  },
  {
   "cell_type": "markdown",
   "metadata": {},
   "source": [
    "## Inference"
   ]
  },
  {
   "cell_type": "code",
   "execution_count": 369,
   "metadata": {},
   "outputs": [],
   "source": [
    "pred_test = clf.predict(te_X)"
   ]
  },
  {
   "cell_type": "code",
   "execution_count": 370,
   "metadata": {},
   "outputs": [],
   "source": [
    "sub = pd.read_csv(os.path.join(folder_path, 'submission.csv'))"
   ]
  },
  {
   "cell_type": "code",
   "execution_count": 371,
   "metadata": {},
   "outputs": [],
   "source": [
    "sub['label'] = pred_test"
   ]
  },
  {
   "cell_type": "code",
   "execution_count": 372,
   "metadata": {},
   "outputs": [],
   "source": [
    "sub.to_csv('submission_final.csv', index=False)"
   ]
  },
  {
   "cell_type": "code",
   "execution_count": null,
   "metadata": {},
   "outputs": [],
   "source": []
  },
  {
   "cell_type": "code",
   "execution_count": null,
   "metadata": {},
   "outputs": [],
   "source": []
  },
  {
   "cell_type": "code",
   "execution_count": null,
   "metadata": {},
   "outputs": [],
   "source": []
  }
 ],
 "metadata": {
  "kernelspec": {
   "display_name": "Python 3",
   "language": "python",
   "name": "python3"
  },
  "language_info": {
   "codemirror_mode": {
    "name": "ipython",
    "version": 3
   },
   "file_extension": ".py",
   "mimetype": "text/x-python",
   "name": "python",
   "nbconvert_exporter": "python",
   "pygments_lexer": "ipython3",
   "version": "3.6.5"
  }
 },
 "nbformat": 4,
 "nbformat_minor": 4
}
